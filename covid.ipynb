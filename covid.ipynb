{
 "cells": [
  {
   "cell_type": "code",
   "execution_count": 2,
   "metadata": {},
   "outputs": [],
   "source": [
    "import requests\n",
    "import matplotlib.pyplot as plt\n",
    "\n",
    "###Get Covid data from API\n",
    "response = requests.get(\"https://covidtracking.com/api/states\") #https://covidtracking.com/api/states\n",
    "listOfDic = response.json()\n",
    "\n",
    "###Store data in CSV file\n",
    "keys = listOfDic[0].keys()\n",
    "listOfKeys = list(keys)\n",
    "tempList = []\n",

    "###########PRINTS ALL INDIVIDUAL VALUES##########\n",
    "    #for z in range(len(listOfKeys)):\n",
    "        #print(listOfDic[x][listOfKeys[z]])\n",
    "        \n",
    "########PRINTS ALL STATE VALUES VALUES###############\n",
    "#tempList = list(listOfDic[0].values())\n",
    "#print(tempList)\n",
    "    "
   ]
  },
  {
   "cell_type": "code",
   "execution_count": 3,
   "metadata": {},
   "outputs": [
    {
     "data": {
      "text/plain": [
       "{'date': 20210307,\n",
       " 'state': 'PA',\n",
       " 'positive': 948643,\n",
       " 'probableCases': 134103,\n",
       " 'negative': 3942124,\n",
       " 'pending': None,\n",
       " 'totalTestResultsSource': 'totalTestEncountersViral',\n",
       " 'totalTestResults': 10681716,\n",
       " 'hospitalizedCurrently': 1587,\n",
       " 'hospitalizedCumulative': None,\n",
       " 'inIcuCurrently': 314,\n",
       " 'inIcuCumulative': None,\n",
       " 'onVentilatorCurrently': 183,\n",
       " 'onVentilatorCumulative': None,\n",
       " 'recovered': 861756,\n",
       " 'lastUpdateEt': '3/7/2021 12:00',\n",
       " 'dateModified': '2021-03-07T12:00:00Z',\n",
       " 'checkTimeEt': '03/07 07:00',\n",
       " 'death': 24349,\n",
       " 'hospitalized': None,\n",
       " 'hospitalizedDischarged': None,\n",
       " 'dateChecked': '2021-03-07T12:00:00Z',\n",
       " 'totalTestsViral': None,\n",
       " 'positiveTestsViral': None,\n",
       " 'negativeTestsViral': None,\n",
       " 'positiveCasesViral': 814540,\n",
       " 'deathConfirmed': None,\n",
       " 'deathProbable': None,\n",
       " 'totalTestEncountersViral': 10681716,\n",
       " 'totalTestsPeopleViral': 4756664,\n",
       " 'totalTestsAntibody': None,\n",
       " 'positiveTestsAntibody': None,\n",
       " 'negativeTestsAntibody': None,\n",
       " 'totalTestsPeopleAntibody': None,\n",
       " 'positiveTestsPeopleAntibody': None,\n",
       " 'negativeTestsPeopleAntibody': None,\n",
       " 'totalTestsPeopleAntigen': None,\n",
       " 'positiveTestsPeopleAntigen': None,\n",
       " 'totalTestsAntigen': None,\n",
       " 'positiveTestsAntigen': None,\n",
       " 'fips': '42',\n",
       " 'positiveIncrease': 1658,\n",
       " 'negativeIncrease': 6592,\n",
       " 'total': 4890767,\n",
       " 'totalTestResultsIncrease': 52432,\n",
       " 'posNeg': 4890767,\n",
       " 'dataQualityGrade': None,\n",
       " 'deathIncrease': 32,\n",
       " 'hospitalizedIncrease': 0,\n",
       " 'hash': 'cc747d66ac5b93580b1cd7b3f292eb5ee0fb5910',\n",
       " 'commercialScore': 0,\n",
       " 'negativeRegularScore': 0,\n",
       " 'negativeScore': 0,\n",
       " 'positiveScore': 0,\n",
       " 'score': 0,\n",
       " 'grade': ''}"
      ]
     },
     "execution_count": 3,
     "metadata": {},
     "output_type": "execute_result"
    }
   ],
  
   "source": [
    "###Put data into graph\n",
    "# x axis values\n",
    "x = []\n",
    "y = []\n",
    "for i in listOfDic:\n",
    "    x.append(i['state']) \n",
    "    # corresponding y axis values \n",
    "    y.append(i['positive'])\n",
    "\n",
    "#plotting the points\n",
    "plt.figure(figsize=(25,20))\n",
    "plt.bar(x, y) \n",
    "  \n",
    "# naming the x axis \n",
    "plt.xlabel('State') \n",
    "# naming the y axis \n",
    "plt.ylabel('Positive cases') \n",
    "  \n",
    "# giving a title to my graph \n",
    "plt.title('Bar graph of PA Covid info') \n",
    "  \n",
    "# function to show the plot \n",
    "plt.show() "
   ]
  },
  {
   "cell_type": "code",
   "execution_count": null,
   "metadata": {},
   "outputs": [],
   "source": []
  }
 ],
 "metadata": {
  "kernelspec": {
   "display_name": "Python 3",
   "language": "python",
   "name": "python3"
  },
  "language_info": {
   "codemirror_mode": {
    "name": "ipython",
    "version": 3
   },
   "file_extension": ".py",
   "mimetype": "text/x-python",
   "name": "python",
   "nbconvert_exporter": "python",
   "pygments_lexer": "ipython3",
   "version": "3.7.6"
  }
 },
 "nbformat": 4,
 "nbformat_minor": 4
}
